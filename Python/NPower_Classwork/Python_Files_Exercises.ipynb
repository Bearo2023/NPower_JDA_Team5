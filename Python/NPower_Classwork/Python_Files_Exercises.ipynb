{
 "cells": [
  {
   "cell_type": "markdown",
   "id": "78c06622",
   "metadata": {},
   "source": [
    "# Python Files exercises"
   ]
  },
  {
   "cell_type": "code",
   "execution_count": 10,
   "id": "6a1328f9",
   "metadata": {},
   "outputs": [],
   "source": [
    "#Q1 Create a text file called mytxt.txt\n",
    "# Save the following content in the text file:\n",
    "# \"In this section, we will use Python's built-in open function to create a file\n",
    "# and obtain the data from a \"txt\" file.\n",
    "# We will use Python's open function to get a file object.\n",
    "# We can apply a method to that object to read data from the file.\n",
    "# The first argument is the file path, the second parameter is the mode.\"\n",
    "\n",
    "wlist=['In this section, we will use Python''s built-in open function to create a file\\n',\n",
    "       'and obtain the data from a ''\"txt''\" file.\\n',\n",
    "       'We will use Python''s open function to get a file object.\\n',\n",
    "       'We can apply a method to that object to read data from the file.\\n',\n",
    "       'The first argument is the file path, the second parameter is the mode.']\n",
    "\n",
    "f = open('mytxt.txt','w')\n",
    "for line in wlist:\n",
    "    f.write(line)\n",
    "f.close()"
   ]
  },
  {
   "cell_type": "code",
   "execution_count": 14,
   "id": "836c9381",
   "metadata": {},
   "outputs": [
    {
     "name": "stdout",
     "output_type": "stream",
     "text": [
      "In this section, we will use Pythons built-in open function to create a file\n",
      "and obtain the data from a \"txt\" file.\n",
      "We will use Pythons open function to get a file object.\n",
      "We can apply a method to that object to read data from the file.\n",
      "The first argument is the file path, the second parameter is the mode.\n"
     ]
    }
   ],
   "source": [
    "#Q1 Write a Python program to read the entire mytxt file\n",
    "f = open('mytxt.txt','r')\n",
    "print(f.read())\n",
    "f.close()"
   ]
  },
  {
   "cell_type": "code",
   "execution_count": 33,
   "id": "4a823eeb",
   "metadata": {},
   "outputs": [
    {
     "name": "stdout",
     "output_type": "stream",
     "text": [
      "We will use Pythons open function to get a file object.\n",
      "\n",
      "We can apply a method to that object to read data from the file.\n",
      "\n",
      "The first argument is the file path, the second parameter is the mode.\n"
     ]
    }
   ],
   "source": [
    "#Q2 Write a Python program to read last 3 lines of mytxt file\n",
    "f = open('mytxt.txt','r')\n",
    "file_len = len(f.readlines())\n",
    "f.seek(0)\n",
    "\n",
    "for i, line in enumerate(f):\n",
    "    if file_len - i < 4:\n",
    "        print(line)"
   ]
  },
  {
   "cell_type": "code",
   "execution_count": 41,
   "id": "045d88d1",
   "metadata": {},
   "outputs": [
    {
     "name": "stdout",
     "output_type": "stream",
     "text": [
      "We can apply a method to that object to read data from the file.\n",
      "\n",
      "The first argument is the file path, the second parameter is the mode.\n"
     ]
    }
   ],
   "source": [
    "#Q3 Write a Python program to read last n lines of mytxt file\n",
    "#[Hint: write a function]\n",
    "def readnline(filename,n):\n",
    "    f = open(filename,'r')\n",
    "    file_len = len(f.readlines())\n",
    "    f.seek(0)\n",
    "    \n",
    "    for i, line in enumerate(f):\n",
    "        if file_len - i < n+1:\n",
    "            print(line)\n",
    "\n",
    "readnline('mytxt.txt',2)"
   ]
  },
  {
   "cell_type": "code",
   "execution_count": 42,
   "id": "e848f516",
   "metadata": {},
   "outputs": [
    {
     "data": {
      "text/plain": [
       "5"
      ]
     },
     "execution_count": 42,
     "metadata": {},
     "output_type": "execute_result"
    }
   ],
   "source": [
    "#Q4 count the number of lines in mytxt file\n",
    "f = open('mytxt.txt','r')\n",
    "file_len = len(f.readlines())\n",
    "file_len"
   ]
  },
  {
   "cell_type": "code",
   "execution_count": 49,
   "id": "13705041",
   "metadata": {},
   "outputs": [],
   "source": [
    "#Q5 Write a Python program to generate 26 text files named A.txt, B.txt,... Z.txt\n",
    "words = 'AZ'\n",
    "b = '.txt'\n",
    "\n",
    "for word in words:\n",
    "    file_nam = word + b\n",
    "    f = open(file_nam,'w')\n",
    "    f.close()"
   ]
  },
  {
   "cell_type": "code",
   "execution_count": 51,
   "id": "f98447c4",
   "metadata": {},
   "outputs": [
    {
     "name": "stdout",
     "output_type": "stream",
     "text": [
      "In this section, we will use Pythons built-in open function to create a file\n",
      "and obtain the data from a \"txt\" file.\n",
      "We will use Pythons open function to get a file object.\n",
      "We can apply a method to that object to read data from the file.\n",
      "The first argument is the file path, the second parameter is the mode.End of file\n",
      "End of file\n"
     ]
    }
   ],
   "source": [
    "#Q6 Write a Python program to append \"End of file\" to mytxt file and\n",
    "# display the text\n",
    "with open('mytxt.txt','a') as f:\n",
    "    f.write('\\nEnd of file')\n",
    "with open('mytxt.txt','r') as f:\n",
    "    print(f.read())"
   ]
  },
  {
   "cell_type": "code",
   "execution_count": 58,
   "id": "df267d01",
   "metadata": {},
   "outputs": [
    {
     "name": "stdout",
     "output_type": "stream",
     "text": [
      "In this section, we will use Pythons built-in open function to create a fileand obtain the data from a \"txt\" file.We will use Pythons open function to get a file object.We can apply a method to that object to read data from the file.The first argument is the file path, the second parameter is the mode.End of fileEnd of file\n"
     ]
    }
   ],
   "source": [
    "#Q7 Write a Python program to remove newline characters from mytxt file\n",
    "with open('mytxt.txt','r') as f:\n",
    "    lines = f.read().splitlines()\n",
    "with open('mytxt2.txt','w') as f:\n",
    "    for line in lines:\n",
    "        f.write(line)\n",
    "with open('mytxt2.txt','r') as f:\n",
    "    print(f.read())"
   ]
  },
  {
   "cell_type": "code",
   "execution_count": 71,
   "id": "78ced8df",
   "metadata": {},
   "outputs": [
    {
     "name": "stdout",
     "output_type": "stream",
     "text": [
      "parameter\n"
     ]
    }
   ],
   "source": [
    "# Q8 Write a python program to find the longest word in mytxt file\n",
    "with open('mytxt.txt','r') as f:\n",
    "    x = f.read()\n",
    "    x=x.replace(\".\",\" \")\n",
    "    words = x.split()\n",
    "\n",
    "longest = 0\n",
    "counter = 0\n",
    "    \n",
    "for i, word in enumerate(words):\n",
    "    word_len = len(word)\n",
    "    #print(word_len)\n",
    "    if word_len>longest:\n",
    "        longest = word_len\n",
    "        #print(longest)\n",
    "        counter = i\n",
    "\n",
    "print(words[counter])\n",
    "    \n"
   ]
  },
  {
   "cell_type": "code",
   "execution_count": 73,
   "id": "55e0f71a",
   "metadata": {},
   "outputs": [
    {
     "name": "stdout",
     "output_type": "stream",
     "text": [
      "['In', 'this', 'section,', 'we', 'will', 'use', 'Pythons', 'built-in', 'open', 'function', 'to', 'create', 'a', 'file', 'and', 'obtain', 'the', 'data', 'from', 'a', '\"txt\"', 'file', 'We', 'will', 'use', 'Pythons', 'open', 'function', 'to', 'get', 'a', 'file', 'object', 'We', 'can', 'apply', 'a', 'method', 'to', 'that', 'object', 'to', 'read', 'data', 'from', 'the', 'file', 'The', 'first', 'argument', 'is', 'the', 'file', 'path,', 'the', 'second', 'parameter', 'is', 'the', 'mode', 'End', 'of', 'file', 'End', 'of', 'file']\n",
      "2\n"
     ]
    }
   ],
   "source": [
    "#Q9 Write a Python program to count the frequency \"We\" in mytxt file\n",
    "with open('mytxt.txt','r') as f:\n",
    "    x = f.read()\n",
    "    x=x.replace(\".\",\" \")\n",
    "    words = x.split()\n",
    "    print(words)\n",
    "    feq = x.count('We')\n",
    "print(feq)"
   ]
  },
  {
   "cell_type": "code",
   "execution_count": null,
   "id": "ab46c06a",
   "metadata": {},
   "outputs": [],
   "source": []
  }
 ],
 "metadata": {
  "kernelspec": {
   "display_name": "Python 3 (ipykernel)",
   "language": "python",
   "name": "python3"
  },
  "language_info": {
   "codemirror_mode": {
    "name": "ipython",
    "version": 3
   },
   "file_extension": ".py",
   "mimetype": "text/x-python",
   "name": "python",
   "nbconvert_exporter": "python",
   "pygments_lexer": "ipython3",
   "version": "3.9.13"
  }
 },
 "nbformat": 4,
 "nbformat_minor": 5
}
